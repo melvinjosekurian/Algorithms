{
 "cells": [
  {
   "cell_type": "code",
   "execution_count": 2,
   "metadata": {},
   "outputs": [],
   "source": [
    "# Definition for a binary tree node.\n",
    "# class TreeNode(object):\n",
    "#     def __init__(self, x):\n",
    "#         self.val = x\n",
    "#         self.left = None\n",
    "#         self.right = None\n",
    "\n",
    "class Solution(object):\n",
    "    def helper_pathSum(self,root,sum,count,path):\n",
    "        path.append(root)\n",
    "        temp_sum=0\n",
    "        \n",
    "        for i in range(len(path),0):\n",
    "            temp_sum += path[i]\n",
    "            if temp_sum == sum:\n",
    "                count += 1\n",
    "        \n",
    "        if root.left != None:\n",
    "            helper_pathSum(self,root.left,sum,count,path)\n",
    "        if root.right != None:\n",
    "            helper_pathSum(self,root.right,sum,count,path)\n",
    "        \n",
    "        \n",
    "    def pathSum(self, root, sum):\n",
    "        \"\"\"\n",
    "        :type root: TreeNode\n",
    "        :type sum: int\n",
    "        :rtype: int\n",
    "        \"\"\"\n",
    "        path = []\n",
    "        count = 0\n",
    "        if root == None:\n",
    "            return count;\n",
    "        else:\n",
    "            helper_pathSum(self,root,sum,count,path)"
   ]
  }
 ],
 "metadata": {
  "kernelspec": {
   "display_name": "Python 2",
   "language": "python",
   "name": "python2"
  },
  "language_info": {
   "codemirror_mode": {
    "name": "ipython",
    "version": 2
   },
   "file_extension": ".py",
   "mimetype": "text/x-python",
   "name": "python",
   "nbconvert_exporter": "python",
   "pygments_lexer": "ipython2",
   "version": "2.7.14"
  }
 },
 "nbformat": 4,
 "nbformat_minor": 2
}
