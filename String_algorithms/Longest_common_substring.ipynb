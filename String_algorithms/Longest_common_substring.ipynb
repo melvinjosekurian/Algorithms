{
 "cells": [
  {
   "cell_type": "code",
   "execution_count": 29,
   "metadata": {},
   "outputs": [
    {
     "name": "stdout",
     "output_type": "stream",
     "text": [
      "set([])\n",
      "set([])\n",
      "set([])\n"
     ]
    }
   ],
   "source": [
    "#implementation in Dynamic programming approach\n",
    "\n",
    "def LCSubstring(S,T):\n",
    "    lenS = len(S)\n",
    "    lenT = len(T)\n",
    "    z = 0\n",
    "    ret = set()\n",
    "    L = [[0]*(lenT) for i in range(0,lenS)]\n",
    "    \n",
    "    for i in range(0,lenS):\n",
    "        for j in range(0,lenT):\n",
    "            if S[i] == T[j]:\n",
    "                if i==0 or j==0:\n",
    "                    L[i][j] = 1\n",
    "                else:\n",
    "                    L[i][j] = L[i-1][j-1] + 1\n",
    "                \n",
    "                if L[i][j] > z:\n",
    "                    z = L[i][j]\n",
    "                    ret.clear()\n",
    "                    ret.add(S[i-z+1:i+1])\n",
    "                else:\n",
    "                    if L[i][j] == z:\n",
    "                        ret.add(S[i-z+1:i+1])\n",
    "    return ret\n",
    "\n",
    "\n",
    "\n",
    "### test case 1 symmetric difference between sets because sets are returned\n",
    "S = \"abcdefdefg\"\n",
    "T = \"efghijkl\"\n",
    "print (LCSubstring(S,T) ^ {'efg'})\n",
    "\n",
    "### test case 2\n",
    "S = \"abcijkldefdefg\"\n",
    "T = \"efghijkl\"\n",
    "print (LCSubstring(S,T) ^ {'ijkl'})\n",
    "\n",
    "### test case 3\n",
    "S = \"abciefghijkldefdefg\"\n",
    "T = \"efghijkl\"\n",
    "print (LCSubstring(S,T) ^ {'efghijkl'})\n"
   ]
  }
 ],
 "metadata": {
  "kernelspec": {
   "display_name": "Python 2",
   "language": "python",
   "name": "python2"
  },
  "language_info": {
   "codemirror_mode": {
    "name": "ipython",
    "version": 2
   },
   "file_extension": ".py",
   "mimetype": "text/x-python",
   "name": "python",
   "nbconvert_exporter": "python",
   "pygments_lexer": "ipython2",
   "version": "2.7.14"
  }
 },
 "nbformat": 4,
 "nbformat_minor": 2
}
