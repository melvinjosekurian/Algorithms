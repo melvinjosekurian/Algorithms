{
 "cells": [
  {
   "cell_type": "code",
   "execution_count": 16,
   "metadata": {},
   "outputs": [],
   "source": [
    "#returns the length of the longest common subsequence\n",
    "def LCSubsequence(S,T):\n",
    "    lenS = len(S)\n",
    "    lenT = len(T)\n",
    "    z = 0\n",
    "    L = [[0]*(lenT+1) for i in range(0,lenS+1)]\n",
    "    \n",
    "    for i in range(1,lenS+1):\n",
    "        for j in range(1,lenT+1):\n",
    "            if S[i-1]==T[j-1]:\n",
    "                L[i][j] = L[i-1][j-1] + 1\n",
    "            elif L[i-1][j] >= L[i][j-1]:\n",
    "                L[i][j] = L[i-1][j]\n",
    "            elif L[i][j-1] >= L[i-1][j]:\n",
    "                L[i][j] = L[i][j-1]           \n",
    "    return L[i][j]\n",
    "\n",
    "\n",
    "### test case 1 \n",
    "S = \"abcdefg\"\n",
    "T = \"afsdfbcsdfss\"\n",
    "assert LCSubsequence(S,T) == 5\n",
    "\n",
    "### test case 2 \n",
    "S = \"abcdefg\"\n",
    "T = \"afsdfbcsdfsgs\"\n",
    "assert LCSubsequence(S,T) == 6\n",
    "\n",
    "### test case 3 \n",
    "S = \"abcdefgss\"\n",
    "T = \"afsdfbcsdfss\"\n",
    "assert LCSubsequence(S,T) == 7"
   ]
  }
 ],
 "metadata": {
  "kernelspec": {
   "display_name": "Python 2",
   "language": "python",
   "name": "python2"
  },
  "language_info": {
   "codemirror_mode": {
    "name": "ipython",
    "version": 2
   },
   "file_extension": ".py",
   "mimetype": "text/x-python",
   "name": "python",
   "nbconvert_exporter": "python",
   "pygments_lexer": "ipython2",
   "version": "2.7.14"
  }
 },
 "nbformat": 4,
 "nbformat_minor": 2
}
