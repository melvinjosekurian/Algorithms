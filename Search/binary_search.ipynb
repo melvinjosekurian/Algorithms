{
 "cells": [
  {
   "cell_type": "code",
   "execution_count": 19,
   "metadata": {},
   "outputs": [],
   "source": [
    "### Recursive binary search implementation in python 2\n",
    "\n",
    "def binarySearch(S,key):\n",
    "    high = len(S)\n",
    "    low = 0\n",
    "    \n",
    "    if high <0:\n",
    "        return False\n",
    "    else:\n",
    "        mid = (high-low)/2\n",
    "        \n",
    "        if S[mid] == key:\n",
    "            return True    \n",
    "\n",
    "        while(low != high):\n",
    "            if S[mid] == key:\n",
    "                return True\n",
    "            elif S[mid] > key:\n",
    "                high = mid\n",
    "                mid = (high-low)/2\n",
    "            else:\n",
    "                low = mid\n",
    "                mid = low+(high-low)/2\n",
    "            if high-low == 1:\n",
    "                if S[low]==key:\n",
    "                    return True\n",
    "                else:\n",
    "                    return False\n",
    "                            \n",
    "    return False\n",
    "\n",
    "def test():\n",
    "    S = [1,3,5,7,9,10,121]\n",
    "    assert binarySearch(S,121) == 121\n",
    "    "
   ]
  }
 ],
 "metadata": {
  "kernelspec": {
   "display_name": "Python 2",
   "language": "python",
   "name": "python2"
  },
  "language_info": {
   "codemirror_mode": {
    "name": "ipython",
    "version": 2
   },
   "file_extension": ".py",
   "mimetype": "text/x-python",
   "name": "python",
   "nbconvert_exporter": "python",
   "pygments_lexer": "ipython2",
   "version": "2.7.14"
  }
 },
 "nbformat": 4,
 "nbformat_minor": 2
}
